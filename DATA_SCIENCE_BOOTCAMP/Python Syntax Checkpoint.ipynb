{
 "cells": [
  {
   "cell_type": "code",
   "execution_count": 3,
   "id": "001b834a",
   "metadata": {},
   "outputs": [
    {
     "name": "stdout",
     "output_type": "stream",
     "text": [
      "Welcome to Python pizza deliveries\n"
     ]
    }
   ],
   "source": [
    "print(\"Welcome to Python pizza deliveries\")"
   ]
  },
  {
   "cell_type": "code",
   "execution_count": 4,
   "id": "e15d34f4",
   "metadata": {},
   "outputs": [
    {
     "name": "stdout",
     "output_type": "stream",
     "text": [
      "What pizza size do you want? Large\n"
     ]
    }
   ],
   "source": [
    "size = input(\"What pizza size do you want? \")"
   ]
  },
  {
   "cell_type": "code",
   "execution_count": 5,
   "id": "383fb3d5",
   "metadata": {},
   "outputs": [
    {
     "data": {
      "text/plain": [
       "'Large'"
      ]
     },
     "execution_count": 5,
     "metadata": {},
     "output_type": "execute_result"
    }
   ],
   "source": [
    "size"
   ]
  },
  {
   "cell_type": "code",
   "execution_count": 6,
   "id": "2ccad37c",
   "metadata": {},
   "outputs": [
    {
     "name": "stdout",
     "output_type": "stream",
     "text": [
      "What pizza size do you want? choose 'L' for Large, 'M' for Medium, 'S' for Small L\n"
     ]
    }
   ],
   "source": [
    "small_pizza = 15\n",
    "medium_pizza = 20\n",
    "large_pizza = 25\n",
    "pepperoni_small_size = 2\n",
    "pepperoni_medium_large = 3\n",
    "cheese = 1\n",
    "\n",
    "size = input(\"What pizza size do you want? choose 'L' for Large, 'M' for Medium, 'S' for Small \")"
   ]
  },
  {
   "cell_type": "code",
   "execution_count": 7,
   "id": "ee58ebf0",
   "metadata": {},
   "outputs": [
    {
     "name": "stdout",
     "output_type": "stream",
     "text": [
      "Do you want pepperoni on your pizza Y/N: Y\n"
     ]
    }
   ],
   "source": [
    "add_pepperoni = input(\"Do you want pepperoni on your pizza Y/N: \")"
   ]
  },
  {
   "cell_type": "code",
   "execution_count": 8,
   "id": "9ab78964",
   "metadata": {},
   "outputs": [
    {
     "name": "stdout",
     "output_type": "stream",
     "text": [
      "Do you want extra cheese Y/N: Y\n"
     ]
    }
   ],
   "source": [
    "extra_cheese = input(\"Do you want extra cheese Y/N: \")"
   ]
  },
  {
   "cell_type": "code",
   "execution_count": 12,
   "id": "1e9d186d",
   "metadata": {},
   "outputs": [
    {
     "name": "stdout",
     "output_type": "stream",
     "text": [
      "What pizza size do you want? choose 'L' for Large, 'M' for Medium, 'S' for Small m\n",
      "Do you want pepperoni on your pizza Y/N: y\n",
      "Do you want extra cheese Y/N: n\n",
      "Your balance is = $23\n"
     ]
    }
   ],
   "source": [
    "size = input(\"What pizza size do you want? choose 'L' for Large, 'M' for Medium, 'S' for Small \").lower()\n",
    "add_pepperoni = input(\"Do you want pepperoni on your pizza Y/N: \")\n",
    "extra_cheese = input(\"Do you want extra cheese Y/N: \")                     \n",
    "if size == 'l' and add_pepperoni == \"y\" and extra_cheese == \"y\":\n",
    "    print(f\"Your balance is = ${large_pizza + pepperoni_medium_large + cheese}\")\n",
    "elif size == 'l' and add_pepperoni == \"y\" and extra_cheese == \"n\":\n",
    "    print(f\"Your balance is = ${large_pizza + pepperoni_medium_large}\")\n",
    "elif size == 'l' and add_pepperoni == \"n\" and extra_cheese == \"y\":\n",
    "    print(f\"Your balance is = ${large_pizza + cheese}\")\n",
    "elif size == 'l' and add_pepperoni == \"n\" and extra_cheese == \"n\":\n",
    "    print(f\"Your balance is = ${large_pizza}\")\n",
    "elif size == 'm' and add_pepperoni == \"y\" and extra_cheese == \"y\":\n",
    "    print(f\"Your balance is = ${medium_pizza + pepperoni_medium_large + cheese}\")\n",
    "elif size == 'm' and add_pepperoni == \"y\" and extra_cheese == \"n\":\n",
    "    print(f\"Your balance is = ${medium_pizza + pepperoni_medium_large}\")\n",
    "elif size == 'm' and add_pepperoni == \"n\" and extra_cheese == \"y\":\n",
    "    print(f\"Your balance is = ${medium_pizza + cheese}\")\n",
    "elif size == 'm' and add_pepperoni == \"n\" and extra_cheese == \"n\":\n",
    "    print(f\"Your balance is = ${medium_pizza}\")\n",
    "elif size == 's' and add_pepperoni == \"y\" and extra_cheese == \"y\":\n",
    "    print(f\"Your balance is = ${small_pizza + pepperoni_small_size + cheese}\")\n",
    "elif size == 's' and add_pepperoni == \"y\" and extra_cheese == \"n\":\n",
    "    print(f\"Your balance is = ${small_pizza + pepperoni_small_size}\")\n",
    "elif size == 's' and add_pepperoni == \"n\" and extra_cheese == \"y\":\n",
    "    print(f\"Your balance is = ${small_pizza + cheese}\")\n",
    "elif size == 's' and add_pepperoni == \"n\" and extra_cheese == \"n\":\n",
    "    print(f\"Your balance is = ${small_pizza}\")"
   ]
  },
  {
   "cell_type": "code",
   "execution_count": null,
   "id": "29dfbd20",
   "metadata": {},
   "outputs": [],
   "source": [
    "a"
   ]
  }
 ],
 "metadata": {
  "kernelspec": {
   "display_name": "Python 3 (ipykernel)",
   "language": "python",
   "name": "python3"
  },
  "language_info": {
   "codemirror_mode": {
    "name": "ipython",
    "version": 3
   },
   "file_extension": ".py",
   "mimetype": "text/x-python",
   "name": "python",
   "nbconvert_exporter": "python",
   "pygments_lexer": "ipython3",
   "version": "3.11.5"
  }
 },
 "nbformat": 4,
 "nbformat_minor": 5
}
